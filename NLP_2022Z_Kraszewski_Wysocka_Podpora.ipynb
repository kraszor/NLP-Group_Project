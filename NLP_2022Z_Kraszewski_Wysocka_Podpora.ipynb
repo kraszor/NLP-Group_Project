{
  "cells": [
    {
      "cell_type": "markdown",
      "metadata": {
        "id": "view-in-github",
        "colab_type": "text"
      },
      "source": [
        "<a href=\"https://colab.research.google.com/github/kraszor/NLP-Group_Project/blob/main/NLP_2022Z_Kraszewski_Wysocka_Podpora.ipynb\" target=\"_parent\"><img src=\"https://colab.research.google.com/assets/colab-badge.svg\" alt=\"Open In Colab\"/></a>"
      ]
    },
    {
      "cell_type": "code",
      "source": [
        "!git clone https://github.com/kraszor/NLP-Group_Project.git"
      ],
      "metadata": {
        "id": "CBiBDA8tmCWf",
        "outputId": "c1d118d5-d2fe-4b87-e915-cf420ced434c",
        "colab": {
          "base_uri": "https://localhost:8080/"
        }
      },
      "id": "CBiBDA8tmCWf",
      "execution_count": 3,
      "outputs": [
        {
          "output_type": "stream",
          "name": "stdout",
          "text": [
            "Cloning into 'NLP-Group_Project'...\n",
            "remote: Enumerating objects: 9, done.\u001b[K\n",
            "remote: Counting objects: 100% (9/9), done.\u001b[K\n",
            "remote: Compressing objects: 100% (8/8), done.\u001b[K\n",
            "remote: Total 9 (delta 2), reused 4 (delta 0), pack-reused 0\u001b[K\n",
            "Unpacking objects: 100% (9/9), done.\n"
          ]
        }
      ]
    },
    {
      "cell_type": "code",
      "source": [
        "%cd /content/NLP-Group_Project/\n",
        "from models_methods import *\n",
        "from preprocessing_methods import *\n",
        "from visulaization_methods import *"
      ],
      "metadata": {
        "id": "1o6YaU2Jm5wZ",
        "outputId": "6873fd20-1fe9-4952-c1d0-93958a55d2c4",
        "colab": {
          "base_uri": "https://localhost:8080/"
        }
      },
      "id": "1o6YaU2Jm5wZ",
      "execution_count": 17,
      "outputs": [
        {
          "output_type": "stream",
          "name": "stdout",
          "text": [
            "/content/NLP-Group_Project\n"
          ]
        }
      ]
    },
    {
      "cell_type": "code",
      "execution_count": null,
      "id": "73d3bfcb",
      "metadata": {
        "id": "73d3bfcb"
      },
      "outputs": [],
      "source": [
        "import numpy as np\n",
        "import pandas as pd\n",
        "import matplotlib.pyplot as plt\n",
        "import sklearn"
      ]
    },
    {
      "cell_type": "code",
      "source": [],
      "metadata": {
        "id": "9HB6CnJmguB_"
      },
      "id": "9HB6CnJmguB_",
      "execution_count": null,
      "outputs": []
    },
    {
      "cell_type": "code",
      "source": [
        "%matplotlib inline\n",
        "import matplotlib as mpl\n",
        "mpl.rc('axes', labelsize=14)\n",
        "mpl.rc('xtick', labelsize=12)\n",
        "mpl.rc('ytick', labelsize=12)"
      ],
      "metadata": {
        "id": "NjdNlS6b4276"
      },
      "id": "NjdNlS6b4276",
      "execution_count": null,
      "outputs": []
    },
    {
      "cell_type": "code",
      "source": [],
      "metadata": {
        "id": "qfIU1F9Zf3Kw"
      },
      "id": "qfIU1F9Zf3Kw",
      "execution_count": null,
      "outputs": []
    }
  ],
  "metadata": {
    "kernelspec": {
      "display_name": "Python 3 (ipykernel)",
      "language": "python",
      "name": "python3"
    },
    "language_info": {
      "codemirror_mode": {
        "name": "ipython",
        "version": 3
      },
      "file_extension": ".py",
      "mimetype": "text/x-python",
      "name": "python",
      "nbconvert_exporter": "python",
      "pygments_lexer": "ipython3",
      "version": "3.10.5"
    },
    "colab": {
      "provenance": [],
      "include_colab_link": true
    }
  },
  "nbformat": 4,
  "nbformat_minor": 5
}