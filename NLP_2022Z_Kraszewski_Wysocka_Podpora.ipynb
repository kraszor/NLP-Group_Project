{
  "cells": [
    {
      "cell_type": "markdown",
      "metadata": {
        "colab_type": "text",
        "id": "view-in-github"
      },
      "source": [
        "<a href=\"https://colab.research.google.com/github/kraszor/NLP-Group_Project/blob/main/NLP_2022Z_Kraszewski_Wysocka_Podpora.ipynb\" target=\"_parent\"><img src=\"https://colab.research.google.com/assets/colab-badge.svg\" alt=\"Open In Colab\"/></a>"
      ]
    },
    {
      "cell_type": "code",
      "execution_count": 1,
      "id": "CBiBDA8tmCWf",
      "metadata": {
        "colab": {
          "base_uri": "https://localhost:8080/"
        },
        "id": "CBiBDA8tmCWf",
        "outputId": "822b70f2-c9ca-4af3-dc1d-3566a3517221"
      },
      "outputs": [
        {
          "name": "stdout",
          "output_type": "stream",
          "text": [
            "Cloning into 'NLP-Group_Project'...\n",
            "remote: Enumerating objects: 12, done.\u001b[K\n",
            "remote: Counting objects: 100% (12/12), done.\u001b[K\n",
            "remote: Compressing objects: 100% (11/11), done.\u001b[K\n",
            "remote: Total 12 (delta 4), reused 4 (delta 0), pack-reused 0\u001b[K\n",
            "Unpacking objects: 100% (12/12), done.\n"
          ]
        }
      ],
      "source": [
        "!git clone https://github.com/kraszor/NLP-Group_Project.git"
      ]
    },
    {
      "cell_type": "code",
      "execution_count": 3,
      "id": "1o6YaU2Jm5wZ",
      "metadata": {
        "colab": {
          "base_uri": "https://localhost:8080/"
        },
        "id": "1o6YaU2Jm5wZ",
        "outputId": "05248169-2fd9-45df-fa54-84751e3ccbf8"
      },
      "outputs": [
        {
          "name": "stdout",
          "output_type": "stream",
          "text": [
            "[Errno 2] No such file or directory: '/content/NLP-Group_Project/'\n",
            "/Users/igorel29/Desktop/nlp/NLP-Group_Project\n"
          ]
        },
        {
          "ename": "ImportError",
          "evalue": "cannot import name 'ModelsEval' from 'models_methods' (/Users/igorel29/Desktop/nlp/NLP-Group_Project/models_methods.py)",
          "output_type": "error",
          "traceback": [
            "\u001b[0;31m---------------------------------------------------------------------------\u001b[0m",
            "\u001b[0;31mImportError\u001b[0m                               Traceback (most recent call last)",
            "\u001b[0;32m/var/folders/0f/s4d1fp1n5yg6mtkbgw_dc_xh0000gn/T/ipykernel_14580/1140441931.py\u001b[0m in \u001b[0;36m<module>\u001b[0;34m\u001b[0m\n\u001b[1;32m      1\u001b[0m \u001b[0mget_ipython\u001b[0m\u001b[0;34m(\u001b[0m\u001b[0;34m)\u001b[0m\u001b[0;34m.\u001b[0m\u001b[0mrun_line_magic\u001b[0m\u001b[0;34m(\u001b[0m\u001b[0;34m'cd'\u001b[0m\u001b[0;34m,\u001b[0m \u001b[0;34m'/content/NLP-Group_Project/'\u001b[0m\u001b[0;34m)\u001b[0m\u001b[0;34m\u001b[0m\u001b[0;34m\u001b[0m\u001b[0m\n\u001b[0;32m----> 2\u001b[0;31m \u001b[0;32mfrom\u001b[0m \u001b[0mmodels_methods\u001b[0m \u001b[0;32mimport\u001b[0m \u001b[0mModelsTraining\u001b[0m\u001b[0;34m,\u001b[0m \u001b[0mModelsPredict\u001b[0m\u001b[0;34m,\u001b[0m \u001b[0mModelsEval\u001b[0m\u001b[0;34m\u001b[0m\u001b[0;34m\u001b[0m\u001b[0m\n\u001b[0m\u001b[1;32m      3\u001b[0m \u001b[0;32mfrom\u001b[0m \u001b[0mpreprocessing_methods\u001b[0m \u001b[0;32mimport\u001b[0m \u001b[0;34m*\u001b[0m\u001b[0;34m\u001b[0m\u001b[0;34m\u001b[0m\u001b[0m\n\u001b[1;32m      4\u001b[0m \u001b[0;32mfrom\u001b[0m \u001b[0mvisulaization_methods\u001b[0m \u001b[0;32mimport\u001b[0m \u001b[0;34m*\u001b[0m\u001b[0;34m\u001b[0m\u001b[0;34m\u001b[0m\u001b[0m\n",
            "\u001b[0;31mImportError\u001b[0m: cannot import name 'ModelsEval' from 'models_methods' (/Users/igorel29/Desktop/nlp/NLP-Group_Project/models_methods.py)"
          ]
        }
      ],
      "source": [
        "%cd /content/NLP-Group_Project/"
      ]
    },
    {
      "cell_type": "code",
      "execution_count": 17,
      "id": "aad2e108",
      "metadata": {},
      "outputs": [],
      "source": [
        "from models_methods import ModelsTraining, ModelsPredict, ModelsEval\n",
        "from preprocessing_methods import *\n",
        "from visulaization_methods import *"
      ]
    },
    {
      "cell_type": "code",
      "execution_count": null,
      "id": "281bcd8c",
      "metadata": {},
      "outputs": [],
      "source": []
    },
    {
      "cell_type": "code",
      "execution_count": 9,
      "id": "73d3bfcb",
      "metadata": {
        "id": "73d3bfcb"
      },
      "outputs": [],
      "source": [
        "import numpy as np\n",
        "import pandas as pd\n",
        "import matplotlib.pyplot as plt\n",
        "import sklearn\n",
        "import torch\n",
        "import torch.nn as nn\n",
        "#import nltk"
      ]
    },
    {
      "cell_type": "code",
      "execution_count": null,
      "id": "9HB6CnJmguB_",
      "metadata": {
        "id": "9HB6CnJmguB_"
      },
      "outputs": [],
      "source": []
    },
    {
      "cell_type": "code",
      "execution_count": null,
      "id": "NjdNlS6b4276",
      "metadata": {
        "id": "NjdNlS6b4276"
      },
      "outputs": [],
      "source": [
        "%matplotlib inline\n",
        "import matplotlib as mpl\n",
        "mpl.rc('axes', labelsize=14)\n",
        "mpl.rc('xtick', labelsize=12)\n",
        "mpl.rc('ytick', labelsize=12)"
      ]
    },
    {
      "cell_type": "code",
      "execution_count": null,
      "id": "c28eb6f4",
      "metadata": {},
      "outputs": [],
      "source": []
    }
  ],
  "metadata": {
    "colab": {
      "include_colab_link": true,
      "provenance": []
    },
    "kernelspec": {
      "display_name": "Python 3.7.12 ('ml_course')",
      "language": "python",
      "name": "python3"
    },
    "language_info": {
      "codemirror_mode": {
        "name": "ipython",
        "version": 3
      },
      "file_extension": ".py",
      "mimetype": "text/x-python",
      "name": "python",
      "nbconvert_exporter": "python",
      "pygments_lexer": "ipython3",
      "version": "3.7.12"
    },
    "vscode": {
      "interpreter": {
        "hash": "8cc6550a85c43d110bfdc7271684c7f62ab077d2c9fca9d9e7cc98460dc40627"
      }
    }
  },
  "nbformat": 4,
  "nbformat_minor": 5
}
